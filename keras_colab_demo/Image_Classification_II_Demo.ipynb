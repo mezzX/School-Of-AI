{
  "nbformat": 4,
  "nbformat_minor": 0,
  "metadata": {
    "colab": {
      "name": "Image_Classification_II_Demo.ipynb",
      "version": "0.3.2",
      "provenance": [],
      "collapsed_sections": [],
      "toc_visible": true
    },
    "kernelspec": {
      "name": "python3",
      "display_name": "Python 3"
    },
    "accelerator": "GPU"
  },
  "cells": [
    {
      "metadata": {
        "id": "VuzoMQbWKoec",
        "colab_type": "text"
      },
      "cell_type": "markdown",
      "source": [
        "# Building a CNN using Keras (TensorFlow as backend)"
      ]
    },
    {
      "metadata": {
        "id": "tbTRfXz4KyZz",
        "colab_type": "text"
      },
      "cell_type": "markdown",
      "source": [
        "## Access the Data\n",
        "\n",
        "We need to gain access to our training and validation data that we will be using to build our model first.\n",
        "\n",
        "The data is in the same Github repo, but since our Colab notebook doesn't have access to this, \n",
        "we need to clone the repo again (yes, this is a bit of a backwards process. An alternative is to upload the data manually from Google Drive or our local machinges, but this is the fastest for now)."
      ]
    },
    {
      "metadata": {
        "id": "dW3m0bKBKf3c",
        "colab_type": "code",
        "colab": {
          "base_uri": "https://localhost:8080/",
          "height": 136
        },
        "outputId": "1c654e90-a043-44b1-e594-befbecb812c1"
      },
      "cell_type": "code",
      "source": [
        "# remove if older version exists\n",
        "!rm -rf learn_image_classification_2\n",
        "!git clone https://github.com/SchoolofAI-Vancouver/learn_image_classification_2.git"
      ],
      "execution_count": 0,
      "outputs": [
        {
          "output_type": "stream",
          "text": [
            "Cloning into 'learn_image_classification_2'...\n",
            "remote: Enumerating objects: 258, done.\u001b[K\n",
            "remote: Counting objects: 100% (258/258), done.\u001b[K\n",
            "remote: Compressing objects: 100% (235/235), done.\u001b[K\n",
            "remote: Total 258 (delta 31), reused 225 (delta 16), pack-reused 0\u001b[K\n",
            "Receiving objects: 100% (258/258), 3.92 MiB | 3.17 MiB/s, done.\n",
            "Resolving deltas: 100% (31/31), done.\n"
          ],
          "name": "stdout"
        }
      ]
    },
    {
      "metadata": {
        "id": "vbqtSFpzLmfx",
        "colab_type": "text"
      },
      "cell_type": "markdown",
      "source": [
        "Let's see if the repo is visible to our Google Colab environment."
      ]
    },
    {
      "metadata": {
        "id": "TlAdrZ_gYBTn",
        "colab_type": "code",
        "colab": {
          "base_uri": "https://localhost:8080/",
          "height": 34
        },
        "outputId": "ca92c84f-2b28-4be5-c2c5-8b6fa6f8bc95"
      },
      "cell_type": "code",
      "source": [
        "# see the content of the currend directory (cd)\n",
        "!ls"
      ],
      "execution_count": 0,
      "outputs": [
        {
          "output_type": "stream",
          "text": [
            "learn_image_classification_2  sample_data\n"
          ],
          "name": "stdout"
        }
      ]
    },
    {
      "metadata": {
        "id": "VGMatXNnL4uQ",
        "colab_type": "text"
      },
      "cell_type": "markdown",
      "source": [
        "Now let's change the current directory to the repo root.\n",
        "\n",
        "**Sidenotes**\n",
        "\n",
        "* The `%` is necessary to specify that it's this notebook's current directory (`cd`) you want to change. \n",
        "* The `!` is how you specify a shell command (command running in your terminal, opposed to Python command)"
      ]
    },
    {
      "metadata": {
        "id": "mB3vlvx_L8yG",
        "colab_type": "code",
        "colab": {
          "base_uri": "https://localhost:8080/",
          "height": 51
        },
        "outputId": "1dd17424-7f80-4395-ac81-f3f6a14040c2"
      },
      "cell_type": "code",
      "source": [
        "# change current direcory to the root folder of the repo\n",
        "%cd learn_image_classification_2/\n",
        "# verify that we are in the repo\n",
        "!ls"
      ],
      "execution_count": 0,
      "outputs": [
        {
          "output_type": "stream",
          "text": [
            "/content/learn_image_classification_2\n",
            "additional  data  keras_colab_demo  LICENSE  README.md\tsrc\n"
          ],
          "name": "stdout"
        }
      ]
    },
    {
      "metadata": {
        "id": "JfPabQgzOlfr",
        "colab_type": "text"
      },
      "cell_type": "markdown",
      "source": [
        "The `data` folder is what we will be using for our model. We are again building a cat/dog classifier.\n",
        "\n"
      ]
    },
    {
      "metadata": {
        "id": "5-Q6rN5kRnJ-",
        "colab_type": "text"
      },
      "cell_type": "markdown",
      "source": [
        "## Build the Model\n",
        "\n",
        "This tutorial was adapted from the [Building powerful image classification models using very little data](https://blog.keras.io/building-powerful-image-classification-models-using-very-little-data.html) post. Follow the link if you are interested in some of the detail not covered here."
      ]
    },
    {
      "metadata": {
        "id": "RgLAWUU0UJJP",
        "colab_type": "text"
      },
      "cell_type": "markdown",
      "source": [
        "## Change Notebook Settings\n",
        "\n",
        "A very good motivation for using Google Colab is it allows you to use a free GPU when running code that can be processed by a GPU. The 2D images input makes CNNs the perfect candidate for training the model using a GPU. At a later stage compare the model training duration on a GPU vs a CPU to see the benefits for yourself.\n",
        "\n",
        "Go to `Edit -> Notebook Settings` and alter as needed:\n",
        "\n",
        "*  **Runtime Type: Python 3**\n",
        "* **Hardware Accelerator: GPU**"
      ]
    },
    {
      "metadata": {
        "id": "dPArsVggSwr9",
        "colab_type": "text"
      },
      "cell_type": "markdown",
      "source": [
        "### Load Dependencies\n",
        "\n",
        "Let's import the package dependencies first."
      ]
    },
    {
      "metadata": {
        "id": "SO-oXAnVa5B9",
        "colab_type": "code",
        "colab": {
          "base_uri": "https://localhost:8080/",
          "height": 34
        },
        "outputId": "ed4f819e-a410-449d-de30-745a29f5b7fc"
      },
      "cell_type": "code",
      "source": [
        "# data augmenting / preprocessing\n",
        "from keras.preprocessing.image import ImageDataGenerator, array_to_img, img_to_array, load_img\n",
        "\n",
        "# model architecture and training\n",
        "from keras.models import Sequential\n",
        "from keras.layers import Conv2D, MaxPooling2D\n",
        "from keras.layers import Activation, Dropout, Flatten, Dense\n",
        "\n",
        "# GPU check\n",
        "from tensorflow.python.client import device_lib\n",
        "\n",
        "# displaying images in notebook\n",
        "from IPython.display import Image, display\n",
        "\n",
        "# finding files\n",
        "import os\n",
        "\n",
        "# array stuff\n",
        "import numpy as np"
      ],
      "execution_count": 0,
      "outputs": [
        {
          "output_type": "stream",
          "text": [
            "Using TensorFlow backend.\n"
          ],
          "name": "stderr"
        }
      ]
    },
    {
      "metadata": {
        "id": "C0e_yyoyVbQ_",
        "colab_type": "text"
      },
      "cell_type": "markdown",
      "source": [
        "### Check that you have GPU access (not required, but beneficial)"
      ]
    },
    {
      "metadata": {
        "id": "sW0e0o-gzE0T",
        "colab_type": "code",
        "colab": {
          "base_uri": "https://localhost:8080/",
          "height": 306
        },
        "outputId": "2a9a7cb1-65b4-4c58-9bbf-e7af604e93e1"
      },
      "cell_type": "code",
      "source": [
        "# Go to Edit -> Notebook Settings to enable a GPU\n",
        "print(device_lib.list_local_devices())"
      ],
      "execution_count": 0,
      "outputs": [
        {
          "output_type": "stream",
          "text": [
            "[name: \"/device:CPU:0\"\n",
            "device_type: \"CPU\"\n",
            "memory_limit: 268435456\n",
            "locality {\n",
            "}\n",
            "incarnation: 11762757746877113334\n",
            ", name: \"/device:GPU:0\"\n",
            "device_type: \"GPU\"\n",
            "memory_limit: 11281989632\n",
            "locality {\n",
            "  bus_id: 1\n",
            "  links {\n",
            "  }\n",
            "}\n",
            "incarnation: 11847074927807015866\n",
            "physical_device_desc: \"device: 0, name: Tesla K80, pci bus id: 0000:00:04.0, compute capability: 3.7\"\n",
            "]\n"
          ],
          "name": "stdout"
        }
      ]
    },
    {
      "metadata": {
        "id": "W1BMeamqVucC",
        "colab_type": "text"
      },
      "cell_type": "markdown",
      "source": [
        "### Data Augmentation Example\n",
        "\n",
        "* Augmenting input images by making small changes, increases the number, and diversity, of input images. This will increase the model's probability of learning the correct image features\n",
        "\n",
        "* Below follows a visual example of how images can be augmented. Keras will take care of this during training (we aren't going to use these example images during training)."
      ]
    },
    {
      "metadata": {
        "id": "G3mtce3YvRdq",
        "colab_type": "code",
        "colab": {}
      },
      "cell_type": "code",
      "source": [
        "# create temporary directory to store the the example augmented images\n",
        "!mkdir data/transform_samples"
      ],
      "execution_count": 0,
      "outputs": []
    },
    {
      "metadata": {
        "id": "6-xE__fYuFIe",
        "colab_type": "code",
        "colab": {
          "base_uri": "https://localhost:8080/",
          "height": 51
        },
        "outputId": "d244a732-3084-49d4-aa87-269d66f633be"
      },
      "cell_type": "code",
      "source": [
        "# augmentation specs\n",
        "datagen = ImageDataGenerator(\n",
        "        rotation_range=40,\n",
        "        width_shift_range=0.2,\n",
        "        height_shift_range=0.2,\n",
        "        shear_range=0.2,\n",
        "        zoom_range=0.2,\n",
        "        horizontal_flip=True,\n",
        "        fill_mode='nearest')\n",
        "\n",
        "# original image\n",
        "img = load_img('data/train/cat/cat.9.jpg')\n",
        "\n",
        "# convert image to Numpy array (numeric value representation of image)\n",
        "x = img_to_array(img)\n",
        "print(\"Image Shape: {}\".format(x.shape))\n",
        "\n",
        "# reshape for Keras use\n",
        "x = x.reshape((1,) + x.shape)\n",
        "print(\"Image Shape: {}\".format(x.shape))\n",
        "\n",
        "\n",
        "# the .flow() command below generates batches of randomly transformed images\n",
        "# and saves the results to the `data/transform_samples/` directory\n",
        "i = 0\n",
        "for batch in datagen.flow(x, batch_size=1,\n",
        "                          save_to_dir='data/transform_samples', save_prefix='cat', save_format='jpeg'):\n",
        "    i += 1\n",
        "    if i > 3:\n",
        "        break  # otherwise the generator would loop indefinitely"
      ],
      "execution_count": 0,
      "outputs": [
        {
          "output_type": "stream",
          "text": [
            "Image Shape: (425, 320, 3)\n",
            "Image Shape: (1, 425, 320, 3)\n"
          ],
          "name": "stdout"
        }
      ]
    },
    {
      "metadata": {
        "id": "zQNRM7gfXpMJ",
        "colab_type": "text"
      },
      "cell_type": "markdown",
      "source": [
        "Let's see if our new, augmented images exist."
      ]
    },
    {
      "metadata": {
        "id": "RSLmeowowAgR",
        "colab_type": "code",
        "colab": {
          "base_uri": "https://localhost:8080/",
          "height": 34
        },
        "outputId": "af33cdd7-871e-4dfd-b1a1-418aa54913e8"
      },
      "cell_type": "code",
      "source": [
        "!ls data/transform_samples/"
      ],
      "execution_count": 0,
      "outputs": [
        {
          "output_type": "stream",
          "text": [
            "cat_0_6467.jpeg  cat_0_6556.jpeg  cat_0_72.jpeg  cat_0_93.jpeg\n"
          ],
          "name": "stdout"
        }
      ]
    },
    {
      "metadata": {
        "id": "azY6xH8MYjQ9",
        "colab_type": "text"
      },
      "cell_type": "markdown",
      "source": [
        "**Original Image**"
      ]
    },
    {
      "metadata": {
        "id": "csM2zZ0_Yidp",
        "colab_type": "code",
        "colab": {
          "base_uri": "https://localhost:8080/",
          "height": 442
        },
        "outputId": "b0df9a16-f54c-4742-d7ba-796449ad2254"
      },
      "cell_type": "code",
      "source": [
        "Image('data/train/cat/cat.9.jpg')"
      ],
      "execution_count": 0,
      "outputs": [
        {
          "output_type": "execute_result",
          "data": {
            "image/jpeg": "[encoded data removed]",
            "text/plain": [
              "<IPython.core.display.Image object>"
            ]
          },
          "metadata": {
            "tags": []
          },
          "execution_count": 10
        }
      ]
    },
    {
      "metadata": {
        "id": "kRSn9YBKYu12",
        "colab_type": "text"
      },
      "cell_type": "markdown",
      "source": [
        "**Augmented Images**"
      ]
    },
    {
      "metadata": {
        "id": "vnWVYz5CwMzt",
        "colab_type": "code",
        "colab": {
          "base_uri": "https://localhost:8080/",
          "height": 1717
        },
        "outputId": "c8ba0c94-53c1-4f9c-8f88-58b6722f7fc1"
      },
      "cell_type": "code",
      "source": [
        "for file in os.listdir(\"data/transform_samples\"):\n",
        "    display(Image(os.path.join(\"data/transform_samples\", file)))"
      ],
      "execution_count": 0,
      "outputs": [
        {
          "output_type": "display_data",
          "data": {
            "image/jpeg": "[encoded data removed]",
            "text/plain": [
              "<IPython.core.display.Image object>"
            ]
          },
          "metadata": {
            "tags": []
          }
        },
        {
          "output_type": "display_data",
          "data": {
            "image/jpeg": "[encoded data removed]",
            "text/plain": [
              "<IPython.core.display.Image object>"
            ]
          },
          "metadata": {
            "tags": []
          }
        },
        {
          "output_type": "display_data",
          "data": {
            "image/jpeg": "[encoded data removed]",
            "text/plain": [
              "<IPython.core.display.Image object>"
            ]
          },
          "metadata": {
            "tags": []
          }
        },
        {
          "output_type": "display_data",
          "data": {
            "image/jpeg": "[encoded data removed]",
            "text/plain": [
              "<IPython.core.display.Image object>"
            ]
          },
          "metadata": {
            "tags": []
          }
        }
      ]
    },
    {
      "metadata": {
        "id": "PvDdN0OTY4YM",
        "colab_type": "text"
      },
      "cell_type": "markdown",
      "source": [
        "**Remove Example Images (just because)**"
      ]
    },
    {
      "metadata": {
        "id": "3y72Ev1yzT9_",
        "colab_type": "code",
        "colab": {}
      },
      "cell_type": "code",
      "source": [
        "!rm -rf data/transform_samples"
      ],
      "execution_count": 0,
      "outputs": []
    },
    {
      "metadata": {
        "id": "ngsPe-DFZIrx",
        "colab_type": "text"
      },
      "cell_type": "markdown",
      "source": [
        "### Model Architecture"
      ]
    },
    {
      "metadata": {
        "id": "CLmDs-CgtILs",
        "colab_type": "code",
        "colab": {}
      },
      "cell_type": "code",
      "source": [
        "# fully connected model (opposed to model with different input / branches)\n",
        "model = Sequential()\n",
        "\n",
        "# input and first hidden layer\n",
        "# - 2D images (Conv2D - https://keras.io/layers/convolutional/#conv2d)\n",
        "# - 32 filters applied to input images (meaning 32 outputs per image)\n",
        "# - filter/kernel has size (3x3)\n",
        "# - strides is by default (1,1), meaning the filter moves one pixel at a time (both directions)\n",
        "# - padding is by default 'valid', meaning if the image doesn't meet input shape, padding will be added\n",
        "model.add(Conv2D(32, (3, 3), input_shape=(164, 164, 3)))\n",
        "# activation function (ensures non-linearity)\n",
        "model.add(Activation('relu'))\n",
        "# max pooling reduces dimensionality\n",
        "model.add(MaxPooling2D(pool_size=(2, 2)))\n",
        "\n",
        "# second hidden layer\n",
        "model.add(Conv2D(32, (3, 3)))\n",
        "model.add(Activation('relu'))\n",
        "model.add(MaxPooling2D(pool_size=(2, 2)))\n",
        "\n",
        "# third hidden layer\n",
        "model.add(Conv2D(64, (3, 3)))\n",
        "model.add(Activation('relu'))\n",
        "model.add(MaxPooling2D(pool_size=(2, 2)))\n",
        "\n",
        "# the model so far outputs 3D feature maps (height, width, features)\n",
        "# now we need to flatten it to allow computation\n",
        "model.add(Flatten())  # this converts our 3D feature maps to 1D feature vectors\n",
        "\n",
        "# a normal 1D hidden layer with less neurons (not necessary)\n",
        "model.add(Dense(64))\n",
        "model.add(Activation('relu'))\n",
        "\n",
        "# dropout removes influence of neurons that don't add value\n",
        "model.add(Dropout(0.5))\n",
        "\n",
        "# output layer (2 neurons) (bug with binary - now matching num of classes - https://github.com/keras-team/keras/issues/6499)\n",
        "# this will give us our 'probability' value\n",
        "model.add(Dense(2))\n",
        "\n",
        "# change to a value between 0 and 1\n",
        "model.add(Activation('softmax')) # binary bug (binary use 'sigmoid')\n",
        "\n",
        "# model training configuration (https://keras.io/models/model/)\n",
        "# loss function - binary crossentropy - ideal for 2 classes # bug - https://github.com/keras-team/keras/issues/6499\n",
        "# optimizer - rmsprop (http://ruder.io/optimizing-gradient-descent/index.html#rmsprop) - for gradient descent (finding best weights)\n",
        "# metrics - accuracy (proportion of correrctly classified images over number of total images)\n",
        "model.compile(loss='categorical_crossentropy',\n",
        "              optimizer='Adam', # rmsprop\n",
        "              metrics=['accuracy'])"
      ],
      "execution_count": 0,
      "outputs": []
    },
    {
      "metadata": {
        "id": "0V7-STrIdW7A",
        "colab_type": "text"
      },
      "cell_type": "markdown",
      "source": [
        "### Data Preparation / Augmentation"
      ]
    },
    {
      "metadata": {
        "id": "3quZz_XArMl9",
        "colab_type": "code",
        "colab": {
          "base_uri": "https://localhost:8080/",
          "height": 51
        },
        "outputId": "957ff901-cca6-444c-9401-8b1db63b3c14"
      },
      "cell_type": "code",
      "source": [
        "# number of images fed into CNN at a time\n",
        "# not too big - will take forever to train\n",
        "# not too small - model will struggle to get a good idea of \n",
        "# the classes in general\n",
        "batch_size = 16\n",
        "\n",
        "# augment settings for training data\n",
        "# this is the augmentation configuration we will use for training\n",
        "train_datagen = ImageDataGenerator(\n",
        "        rescale=1./255, #RGB colours (change values to 0 to 1)\n",
        "        shear_range=0.2, #tilt random images (20% of images)\n",
        "        zoom_range=0.2, # zoom random iamges (20% of images)\n",
        "        horizontal_flip=True) # flip images\n",
        "\n",
        "# augment settings for validation data\n",
        "# this is the augmentation configuration we will use for validation:\n",
        "# only rescaling\n",
        "validate_datagen = ImageDataGenerator(rescale=1./255) #RGB colours (change values to 0 to 1)\n",
        "\n",
        "# this is a generator that will read pictures found in\n",
        "# subfolers of 'data/train', and indefinitely generate\n",
        "# batches of augmented image data\n",
        "train_generator = train_datagen.flow_from_directory(\n",
        "        'data/train',  # this is the target directory\n",
        "        target_size=(164, 164),  # all images will be resized to 164x164 (same as input shape in architecture)\n",
        "        batch_size=batch_size,\n",
        "        class_mode='categorical')  # bug with binary - https://github.com/keras-team/keras/issues/6499- since we use binary_crossentropy loss, we need binary labels\n",
        "\n",
        "# this is a similar generator, for validation data\n",
        "validation_generator = validate_datagen.flow_from_directory(\n",
        "        'data/validate',\n",
        "        target_size=(164, 164),\n",
        "        batch_size=batch_size,\n",
        "        class_mode='categorical') # bug with 'binary' - https://github.com/keras-team/keras/issues/6499"
      ],
      "execution_count": 0,
      "outputs": [
        {
          "output_type": "stream",
          "text": [
            "Found 137 images belonging to 2 classes.\n",
            "Found 14 images belonging to 2 classes.\n"
          ],
          "name": "stdout"
        }
      ]
    },
    {
      "metadata": {
        "id": "sDKbQfvFfQMc",
        "colab_type": "text"
      },
      "cell_type": "markdown",
      "source": [
        "### Model Training"
      ]
    },
    {
      "metadata": {
        "id": "acNmPYAft54e",
        "colab_type": "code",
        "colab": {
          "base_uri": "https://localhost:8080/",
          "height": 170
        },
        "outputId": "ea6baef9-c0d6-40a1-b51a-94c4f563ca28"
      },
      "cell_type": "code",
      "source": [
        "model.fit_generator(\n",
        "        train_generator,\n",
        "        steps_per_epoch=2000 // batch_size, # total number of images processed is batch_size*steps_per_epoch*epochs\n",
        "        epochs=4,\n",
        "        validation_data=validation_generator,\n",
        "        validation_steps=800 // batch_size)"
      ],
      "execution_count": 0,
      "outputs": [
        {
          "output_type": "stream",
          "text": [
            "Epoch 1/4\n",
            "125/125 [==============================] - 26s 206ms/step - loss: 0.6538 - acc: 0.6170 - val_loss: 0.6280 - val_acc: 0.6429\n",
            "Epoch 2/4\n",
            "125/125 [==============================] - 25s 203ms/step - loss: 0.4036 - acc: 0.8156 - val_loss: 0.6675 - val_acc: 0.7143\n",
            "Epoch 3/4\n",
            "125/125 [==============================] - 25s 202ms/step - loss: 0.2039 - acc: 0.9127 - val_loss: 1.0549 - val_acc: 0.7143\n",
            "Epoch 4/4\n",
            "125/125 [==============================] - 25s 198ms/step - loss: 0.1190 - acc: 0.9599 - val_loss: 0.5660 - val_acc: 0.7857\n"
          ],
          "name": "stdout"
        },
        {
          "output_type": "execute_result",
          "data": {
            "text/plain": [
              "<keras.callbacks.History at 0x7f821d07e1d0>"
            ]
          },
          "metadata": {
            "tags": []
          },
          "execution_count": 15
        }
      ]
    },
    {
      "metadata": {
        "id": "dwRY7uoznczX",
        "colab_type": "text"
      },
      "cell_type": "markdown",
      "source": [
        "### Saving and Reusing or Retraining the Model\n",
        "\n",
        "Check out [this tutorial](https://blog.keras.io/building-powerful-image-classification-models-using-very-little-data.html) on how to save the model, load it again, use it for classifications or retraining (as we saw in the previous workshop)."
      ]
    },
    {
      "metadata": {
        "id": "O6BzIpIxgs3C",
        "colab_type": "text"
      },
      "cell_type": "markdown",
      "source": [
        "### Classify on New Image"
      ]
    },
    {
      "metadata": {
        "id": "8DApi6Jm32c6",
        "colab_type": "text"
      },
      "cell_type": "markdown",
      "source": [
        "There's a stupid bug with keeping the order of files when trying to predict on multiple at the same time. Check out this [link](https://github.com/keras-team/keras/issues/3296) if you're interested.\n",
        "\n",
        "So we will classify new cats and dogs seperately for now."
      ]
    },
    {
      "metadata": {
        "id": "jUm-6p1b4Ooh",
        "colab_type": "text"
      },
      "cell_type": "markdown",
      "source": [
        "**Dogs**"
      ]
    },
    {
      "metadata": {
        "id": "AME4A1qtgxJH",
        "colab_type": "code",
        "colab": {
          "base_uri": "https://localhost:8080/",
          "height": 51
        },
        "outputId": "3c509acb-7fe0-4d55-ddbf-2e684190c18b"
      },
      "cell_type": "code",
      "source": [
        "batch_size = 1\n",
        "\n",
        "test_generator = datagen.flow_from_directory(\n",
        "        'data/test/dog', # never seen before images - IMPORTANT - still needs subfolder(s)\n",
        "        target_size=(164, 164), # same as input shape\n",
        "        batch_size=batch_size, # number of images going in at the same time\n",
        "        class_mode='categorical',  # this means our generator will only yield batches of data, no labels\n",
        "        shuffle=False)  # our data will be in order, 5 cats then 5 dogs\n",
        "\n",
        "# bug fix workaround - https://towardsdatascience.com/keras-a-thing-you-should-know-about-keras-if-you-plan-to-train-a-deep-learning-model-on-a-large-fdd63ce66bd2\n",
        "predictions = model.predict_generator(test_generator)\n",
        "predictions = np.argmax(predictions, axis=-1) #multiple categories\n",
        "label_map = (train_generator.class_indices)\n",
        "label_map = dict((v,k) for k,v in label_map.items()) #flip k,v\n",
        "predictions = [label_map[k] for k in predictions]\n",
        "\n",
        "print(predictions)"
      ],
      "execution_count": 0,
      "outputs": [
        {
          "output_type": "stream",
          "text": [
            "Found 5 images belonging to 1 classes.\n",
            "['dog', 'dog', 'dog', 'dog', 'dog']\n"
          ],
          "name": "stdout"
        }
      ]
    },
    {
      "metadata": {
        "id": "ZxZ3YIOJ8YtF",
        "colab_type": "text"
      },
      "cell_type": "markdown",
      "source": [
        "**Cats**"
      ]
    },
    {
      "metadata": {
        "id": "W_1a2dn9xWHB",
        "colab_type": "code",
        "colab": {
          "base_uri": "https://localhost:8080/",
          "height": 51
        },
        "outputId": "d0fdb5d8-246c-495e-9d95-84e20095e891"
      },
      "cell_type": "code",
      "source": [
        "batch_size = 1\n",
        "\n",
        "test_generator = datagen.flow_from_directory(\n",
        "        'data/test/cat', # never seen before images - IMPORTANT - still needs subfolder(s)\n",
        "        target_size=(164, 164), # same as input shape\n",
        "        batch_size=batch_size, # number of images going in at the same time\n",
        "        class_mode='categorical',  # this means our generator will only yield batches of data, no labels\n",
        "        shuffle=False)  # our data will be in order, 5 cats then 5 dogs\n",
        "\n",
        "# bug fix workaround - https://towardsdatascience.com/keras-a-thing-you-should-know-about-keras-if-you-plan-to-train-a-deep-learning-model-on-a-large-fdd63ce66bd2\n",
        "\n",
        "predictions = model.predict_generator(test_generator)\n",
        "predictions = np.argmax(predictions, axis=-1) #multiple categories\n",
        "label_map = (train_generator.class_indices)\n",
        "label_map = dict((v,k) for k,v in label_map.items()) #flip k,v\n",
        "predictions = [label_map[k] for k in predictions]\n",
        "\n",
        "print(predictions)"
      ],
      "execution_count": 0,
      "outputs": [
        {
          "output_type": "stream",
          "text": [
            "Found 5 images belonging to 1 classes.\n",
            "['dog', 'dog', 'cat', 'cat', 'cat']\n"
          ],
          "name": "stdout"
        }
      ]
    }
  ]
}